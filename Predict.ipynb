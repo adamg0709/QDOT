{
 "cells": [
  {
   "cell_type": "code",
   "execution_count": 1658,
   "id": "e7251585",
   "metadata": {},
   "outputs": [],
   "source": [
    "import numpy as np\n",
    "from numpy import genfromtxt, savetxt\n",
    "from numpy import linalg as la\n",
    "import copy\n",
    "import matplotlib.pyplot as plt\n",
    "%matplotlib inline\n",
    "plt.rcParams['figure.figsize'] = [7, 5]"
   ]
  },
  {
   "cell_type": "code",
   "execution_count": 1693,
   "id": "3831103b",
   "metadata": {},
   "outputs": [],
   "source": [
    "class EchoStateNetwork:\n",
    "    def __init__(self,res_size=10,num_inputs=3,num_outputs=1,inp_scaling=0.5,sr=0.5,lr=0.01,alpha=0.000001):\n",
    "        self.res_size = res_size\n",
    "        self.num_nputs = num_inputs\n",
    "        self.num_outputs = num_outputs\n",
    "        self.inp_scaling = inp_scaling\n",
    "        self.sr = sr\n",
    "        self.lr = lr\n",
    "        self.alpha = alpha\n",
    "        self.act = lambda x: 1. / (1. + np.exp(-x))\n",
    "        \n",
    "        self.W_in = inp_scaling*np.random.randint(2, size=[res_size,num_inputs])\n",
    "        self.W_in[self.W_in == 0] = -inp_scaling\n",
    "        \n",
    "        self.W_res = np.random.normal(loc=0.0,scale=1.0,size=[res_size,res_size])\n",
    "        converged = False\n",
    "        while not converged:\n",
    "            current_sr = max(np.abs(la.eigvals(self.W_res)))\n",
    "            self.W_res *= sr/current_sr\n",
    "            if (-0.01 < (current_sr-sr)) and (0.01 > (current_sr-sr)):\n",
    "                converged = True\n",
    "        #self.W_res = np.zeros([res_size,res_size]) # REMOVE\n",
    "        self.b_res = np.random.normal(loc=0.0,scale=0.5,size=res_size)\n",
    "        \n",
    "        self.W_out = np.random.normal(loc=0.0,scale=1.0,size=[num_outputs,res_size])\n",
    "        self.b_out = np.random.normal(loc=0.0,scale=1.0,size=num_outputs)\n",
    "        \n",
    "        self.inputs = np.zeros(num_inputs)\n",
    "        self.res_states = np.zeros(res_size)\n",
    "        self.res_outputs = np.zeros(res_size)\n",
    "        self.outputs = np.zeros(num_outputs)\n",
    "                \n",
    "    def forward(self,inputs):\n",
    "        self.inputs = inputs\n",
    "        self.res_states = np.dot(self.W_in,self.inputs) + np.dot(self.W_res,self.res_outputs) + self.b_res\n",
    "        self.res_outputs = self.act(self.res_states)\n",
    "        self.outputs = np.dot(self.W_out,self.res_outputs) + self.b_out\n",
    "        \n",
    "    def train(self,targets):\n",
    "        for i in range(self.num_outputs):\n",
    "            err = self.outputs[i] - targets[i]\n",
    "            self.b_out[i] -= 2*self.lr*(err + self.alpha*np.abs(self.b_out[i]))\n",
    "            for j in range(self.res_size):\n",
    "                self.W_out[i][j] -= 2*self.lr*(err*self.res_outputs[j] + self.alpha*np.abs(self.W_out[i][j]))"
   ]
  },
  {
   "cell_type": "code",
   "execution_count": 2110,
   "id": "10fe18d1",
   "metadata": {},
   "outputs": [],
   "source": [
    "esn_template = EchoStateNetwork(res_size=30,num_inputs=2,num_outputs=1,inp_scaling=2.5,sr=5.,lr=0.001)"
   ]
  },
  {
   "cell_type": "code",
   "execution_count": 2167,
   "id": "fa409c73",
   "metadata": {},
   "outputs": [],
   "source": [
    "t_C = 0.1\n",
    "t_L = 0.003\n",
    "dt = 0.0\n",
    "N = 2\n",
    "f_L = [-1,1]\n",
    "\n",
    "centers_filename = \"Data/centers_\"+str(t_C)+\"_\"+str(t_L)+\"_\"+str(dt)+\"_\"+str(N)+\".csv\"\n",
    "counts_filename = \"Data/counts_\"+str(t_C)+\"_\"+str(t_L)+\"_\"+str(dt)+\"_\"+str(N)+\".csv\""
   ]
  },
  {
   "cell_type": "code",
   "execution_count": 2168,
   "id": "8d799ebb",
   "metadata": {},
   "outputs": [],
   "source": [
    "centers = genfromtxt(centers_filename, delimiter=',')\n",
    "counts = genfromtxt(counts_filename, delimiter=',')\n",
    "max_count = np.amax(counts)\n",
    "counts = counts/max_count\n",
    "split = 0.7 # 70% training, 30% testing\n",
    "total_cycles = len(centers)\n",
    "split_idx = int(split*total_cycles)\n",
    "train_centers = centers[0:split_idx]\n",
    "train_counts = counts[0:split_idx]\n",
    "test_centers = centers[split_idx:]\n",
    "test_counts = counts[split_idx:]\n",
    "esn = copy.deepcopy(esn_template)"
   ]
  },
  {
   "cell_type": "code",
   "execution_count": 2169,
   "id": "5b44bb07",
   "metadata": {},
   "outputs": [],
   "source": [
    "test_iterations = len(test_centers)\n",
    "#print(test_iterations)\n",
    "warm_up = 5\n",
    "\n",
    "def evaluate():\n",
    "    TSE = 0.\n",
    "    outputs = np.zeros(test_iterations-warm_up)\n",
    "    for i in range(warm_up):\n",
    "        esn.forward(test_counts[i])\n",
    "    for i in range(test_iterations-warm_up):\n",
    "        esn.forward(test_counts[i+warm_up])\n",
    "        outputs[i] = esn.outputs[0]\n",
    "        TSE += (outputs[i] - test_centers[i+warm_up])**2\n",
    "    RMSE = np.sqrt(TSE/(test_iterations-warm_up))\n",
    "    print(round(RMSE,4))"
   ]
  },
  {
   "cell_type": "code",
   "execution_count": 2170,
   "id": "7fd89d3f",
   "metadata": {},
   "outputs": [
    {
     "name": "stdout",
     "output_type": "stream",
     "text": [
      "0.3295\n",
      "0.256\n",
      "0.2202\n",
      "0.1987\n",
      "0.1835\n",
      "0.172\n",
      "0.1628\n",
      "0.1552\n",
      "0.1488\n",
      "0.1434\n"
     ]
    }
   ],
   "source": [
    "train_iterations = len(train_centers)\n",
    "#train_iterations = 349\n",
    "epochs = 10\n",
    "warm_up = 5\n",
    "#print(train_iterations)\n",
    "#print(\" \")\n",
    "\n",
    "# Training loop\n",
    "for _ in range(epochs):\n",
    "    for i in range(warm_up):\n",
    "        esn.forward(train_counts[i])\n",
    "    for i in range(train_iterations-warm_up):\n",
    "        esn.forward(train_counts[i+warm_up])\n",
    "        esn.train(np.array([train_centers[i+warm_up]]))\n",
    "    evaluate()"
   ]
  },
  {
   "cell_type": "markdown",
   "id": "2d1677b9",
   "metadata": {},
   "source": [
    "## Plotting Prediction"
   ]
  },
  {
   "cell_type": "code",
   "execution_count": 1481,
   "id": "11632a99",
   "metadata": {},
   "outputs": [
    {
     "name": "stdout",
     "output_type": "stream",
     "text": [
      "10000000\n",
      "0.2935554226645889\n"
     ]
    }
   ],
   "source": [
    "all_centers = genfromtxt('Data/AllNoiseSimulatedData.csv', delimiter=',')\n",
    "timestep = 0.00005\n",
    "total_time = 500\n",
    "print(len(all_centers))\n",
    "print(np.std(all_centers))"
   ]
  },
  {
   "cell_type": "code",
   "execution_count": 1482,
   "id": "aad9cd80",
   "metadata": {},
   "outputs": [],
   "source": [
    "t_C = 0.1\n",
    "t_L = 0.01\n",
    "dt = 0.02\n",
    "N = 3\n",
    "f_L = [-1,0,1]\n",
    "\n",
    "num_cycles = int(total_time/t_C) - 1\n",
    "steps_per_cycle = int(t_C/timestep)\n",
    "steps_per_measurement = int(t_L/timestep)\n",
    "steps_per_prediction = int(dt/timestep)\n",
    "\n",
    "centers = np.zeros(num_cycles)\n",
    "counts = np.zeros([num_cycles,N])"
   ]
  },
  {
   "cell_type": "code",
   "execution_count": 1483,
   "id": "31f65e51",
   "metadata": {},
   "outputs": [
    {
     "data": {
      "text/plain": [
       "<matplotlib.legend.Legend at 0x23198bde8b0>"
      ]
     },
     "execution_count": 1483,
     "metadata": {},
     "output_type": "execute_result"
    },
    {
     "data": {
      "image/png": "[encoded data removed]",
      "text/plain": [
       "<Figure size 504x360 with 1 Axes>"
      ]
     },
     "metadata": {
      "needs_background": "light"
     },
     "output_type": "display_data"
    }
   ],
   "source": [
    "n = 40000\n",
    "times = np.arange(n)*timestep\n",
    "all_idx = split_idx*steps_per_cycle\n",
    "ctrs = all_centers[all_idx+warm_up*steps_per_cycle:all_idx+n+warm_up*steps_per_cycle]\n",
    "num_c = int(n*timestep/t_C)\n",
    "predict_times = np.arange(num_c)*t_C + 3*t_L + dt\n",
    "y = outputs[0:num_c]\n",
    "t = test_centers[warm_up:warm_up+num_c]\n",
    "\n",
    "plt.xlabel(\"Time [s]\")\n",
    "plt.ylabel(\"Detuning [GHz]\")\n",
    "plt.title(\"ESN Prediction After Training, with $t_C=0.1$ [s], $t_L=0.01$ [s], $\\Delta t=0$ [s], $N_L=3$, $N_R=100$, $\\\\rho=0.1$\")\n",
    "plt.rcParams['figure.figsize'] = [12,8]\n",
    "\n",
    "plt.scatter(predict_times,t,color=\"red\",zorder=3,label=\"Targets\")\n",
    "plt.scatter(predict_times,y,color=\"black\",zorder=2,label=\"Predictions\")\n",
    "plt.plot(times,ctrs,zorder=1)\n",
    "plt.legend()"
   ]
  },
  {
   "cell_type": "code",
   "execution_count": null,
   "id": "d7154f4a",
   "metadata": {},
   "outputs": [],
   "source": []
  }
 ],
 "metadata": {
  "kernelspec": {
   "display_name": "Python 3",
   "language": "python",
   "name": "python3"
  },
  "language_info": {
   "codemirror_mode": {
    "name": "ipython",
    "version": 3
   },
   "file_extension": ".py",
   "mimetype": "text/x-python",
   "name": "python",
   "nbconvert_exporter": "python",
   "pygments_lexer": "ipython3",
   "version": "3.8.8"
  }
 },
 "nbformat": 4,
 "nbformat_minor": 5
}
